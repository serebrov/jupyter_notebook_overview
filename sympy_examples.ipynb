{
 "cells": [
  {
   "cell_type": "markdown",
   "metadata": {},
   "source": [
    "Some examples from the SymPy intro: http://docs.sympy.org/latest/tutorial/intro.html"
   ]
  },
  {
   "cell_type": "code",
   "execution_count": 2,
   "metadata": {},
   "outputs": [],
   "source": [
    "from sympy import *\n",
    "\n",
    "# This will make all further examples pretty print with unicode characters.\n",
    "init_printing(use_unicode=True)"
   ]
  },
  {
   "cell_type": "code",
   "execution_count": 3,
   "metadata": {},
   "outputs": [],
   "source": [
    "x, t, z, nu = symbols('x t z nu')"
   ]
  },
  {
   "cell_type": "markdown",
   "metadata": {},
   "source": [
    "## Derviative"
   ]
  },
  {
   "cell_type": "code",
   "execution_count": 4,
   "metadata": {
    "scrolled": true
   },
   "outputs": [
    {
     "data": {
      "text/latex": [
       "$$e^{x} \\sin{\\left (x \\right )}$$"
      ],
      "text/plain": [
       " x       \n",
       "ℯ ⋅sin(x)"
      ]
     },
     "execution_count": 4,
     "metadata": {},
     "output_type": "execute_result"
    }
   ],
   "source": [
    "expression = sin(x)*exp(x)\n",
    "expression"
   ]
  },
  {
   "cell_type": "code",
   "execution_count": 5,
   "metadata": {},
   "outputs": [
    {
     "name": "stdout",
     "output_type": "stream",
     "text": [
      "2.15273 |                                                      / \n",
      "        |                                                     /  \n",
      "        |                                                    /   \n",
      "        |                                                   /    \n",
      "        |                                                  /     \n",
      "        |                                                 /      \n",
      "        |                                               ..       \n",
      "        |                                              /         \n",
      "0.91516 | -------------------------------------------..----------\n",
      "        |                                           /            \n",
      "        |                                         ..             \n",
      "        |                                       ..               \n",
      "        |                                     ..                 \n",
      "        |                                  ...                   \n",
      "        |                               ...                      \n",
      "        |                            ...                         \n",
      "        |                      ......                            \n",
      "-0.3223 | .....................                                  \n",
      "          -1                     0                          1\n"
     ]
    },
    {
     "data": {
      "text/plain": [
       "<sympy.plotting.plot.Plot at 0x7f16411e8940>"
      ]
     },
     "execution_count": 5,
     "metadata": {},
     "output_type": "execute_result"
    }
   ],
   "source": [
    "plot(expression, (x, -1, 1))"
   ]
  },
  {
   "cell_type": "code",
   "execution_count": 6,
   "metadata": {
    "scrolled": false
   },
   "outputs": [
    {
     "data": {
      "text/latex": [
       "$$e^{x} \\sin{\\left (x \\right )} + e^{x} \\cos{\\left (x \\right )}$$"
      ],
      "text/plain": [
       " x           x       \n",
       "ℯ ⋅sin(x) + ℯ ⋅cos(x)"
      ]
     },
     "execution_count": 6,
     "metadata": {},
     "output_type": "execute_result"
    }
   ],
   "source": [
    "# Derivative\n",
    "diff(expression, x)"
   ]
  },
  {
   "cell_type": "code",
   "execution_count": 7,
   "metadata": {},
   "outputs": [
    {
     "name": "stdout",
     "output_type": "stream",
     "text": [
      "3.64822 |                                                      / \n",
      "        |                                                    ..  \n",
      "        |                                                  ..    \n",
      "        |                                                ..      \n",
      "        |                                              ..        \n",
      "        |                                            ..          \n",
      "        |                                          ..            \n",
      "        |                                        ..              \n",
      "1.76872 | -------------------------------------..----------------\n",
      "        |                                    ..                  \n",
      "        |                                 ...                    \n",
      "        |                               ..                       \n",
      "        |                            ...                         \n",
      "        |                         ...                            \n",
      "        |                     ....                               \n",
      "        |                 ....                                   \n",
      "        |           ......                                       \n",
      "-0.1107 | ..........                                             \n",
      "          -1                     0                          1\n"
     ]
    },
    {
     "data": {
      "text/plain": [
       "<sympy.plotting.plot.Plot at 0x7f1641192438>"
      ]
     },
     "execution_count": 7,
     "metadata": {},
     "output_type": "execute_result"
    }
   ],
   "source": [
    "plot(diff(expression, x), (x, -1, 1))"
   ]
  },
  {
   "cell_type": "markdown",
   "metadata": {},
   "source": [
    "## Integral"
   ]
  },
  {
   "cell_type": "code",
   "execution_count": 8,
   "metadata": {
    "scrolled": true
   },
   "outputs": [
    {
     "data": {
      "text/latex": [
       "$$e^{x} \\sin{\\left (x \\right )} + e^{x} \\cos{\\left (x \\right )}$$"
      ],
      "text/plain": [
       " x           x       \n",
       "ℯ ⋅sin(x) + ℯ ⋅cos(x)"
      ]
     },
     "execution_count": 8,
     "metadata": {},
     "output_type": "execute_result"
    }
   ],
   "source": [
    "expression = exp(x)*sin(x) + exp(x)*cos(x)\n",
    "expression"
   ]
  },
  {
   "cell_type": "code",
   "execution_count": 9,
   "metadata": {},
   "outputs": [
    {
     "name": "stdout",
     "output_type": "stream",
     "text": [
      "4.81023 |                                               ... ...  \n",
      "        |                                             ..       \\ \n",
      "        |                                            /          \\\n",
      "        |                                          ..            \n",
      "        |                                         /              \n",
      "        |                                        /               \n",
      "        |                                       /                \n",
      "        |                                     ..                 \n",
      "2.30118 | -----------------------------------/-------------------\n",
      "        |                                   /                    \n",
      "        |                                 ..                     \n",
      "        |                                /                       \n",
      "        |                              ..                        \n",
      "        |                            ..                          \n",
      "        |                          ..                            \n",
      "        |                       ...                              \n",
      "        |                    ...                                 \n",
      "-0.2078 | ...................                                    \n",
      "          -2                     0                          2\n"
     ]
    },
    {
     "data": {
      "text/plain": [
       "<sympy.plotting.plot.Plot at 0x7f165034b8d0>"
      ]
     },
     "execution_count": 9,
     "metadata": {},
     "output_type": "execute_result"
    }
   ],
   "source": [
    "plot(expression, (x, -2, 2))"
   ]
  },
  {
   "cell_type": "code",
   "execution_count": 10,
   "metadata": {},
   "outputs": [
    {
     "data": {
      "text/latex": [
       "$$e^{x} \\sin{\\left (x \\right )}$$"
      ],
      "text/plain": [
       " x       \n",
       "ℯ ⋅sin(x)"
      ]
     },
     "execution_count": 10,
     "metadata": {},
     "output_type": "execute_result"
    }
   ],
   "source": [
    "integrate(expression, x)"
   ]
  },
  {
   "cell_type": "code",
   "execution_count": 11,
   "metadata": {},
   "outputs": [
    {
     "name": "stdout",
     "output_type": "stream",
     "text": [
      " 6.4388 |                                                      / \n",
      "        |                                                     /  \n",
      "        |                                                    /   \n",
      "        |                                                   /    \n",
      "        |                                                  /     \n",
      "        |                                                 /      \n",
      "        |                                                /       \n",
      "        |                                               /        \n",
      "3.05828 | --------------------------------------------..---------\n",
      "        |                                            /           \n",
      "        |                                           /            \n",
      "        |                                         ..             \n",
      "        |                                        /               \n",
      "        |                                      ..                \n",
      "        |                                    ..                  \n",
      "        |                                 ...                    \n",
      "        |                              ...                       \n",
      "-0.3222 | .............................                          \n",
      "          -2                     0                          2\n"
     ]
    },
    {
     "data": {
      "text/plain": [
       "<sympy.plotting.plot.Plot at 0x7f1629cf8ba8>"
      ]
     },
     "execution_count": 11,
     "metadata": {},
     "output_type": "execute_result"
    }
   ],
   "source": [
    "plot(integrate(expression, x), (x, -2, 2))"
   ]
  },
  {
   "cell_type": "markdown",
   "metadata": {},
   "source": [
    "## Limit"
   ]
  },
  {
   "cell_type": "code",
   "execution_count": 12,
   "metadata": {
    "scrolled": true
   },
   "outputs": [
    {
     "data": {
      "text/latex": [
       "$$\\frac{1}{x} \\sin{\\left (x \\right )}$$"
      ],
      "text/plain": [
       "sin(x)\n",
       "──────\n",
       "  x   "
      ]
     },
     "execution_count": 12,
     "metadata": {},
     "output_type": "execute_result"
    }
   ],
   "source": [
    "expression =  sin(x)/x\n",
    "expression"
   ]
  },
  {
   "cell_type": "code",
   "execution_count": 13,
   "metadata": {},
   "outputs": [
    {
     "name": "stdout",
     "output_type": "stream",
     "text": [
      "0.99833 |  .........                                             \n",
      "        |           .....                                        \n",
      "        |                ....                                    \n",
      "        |                    ....                                \n",
      "        |                        ...                             \n",
      "        |                           ..                           \n",
      "        |                             ...                        \n",
      "        |                                ..                      \n",
      "0.73400 | ---------------------------------...-------------------\n",
      "        |                                     ..                 \n",
      "        |                                       ..               \n",
      "        |                                         ..             \n",
      "        |                                           ...          \n",
      "        |                                              ..        \n",
      "        |                                                ..      \n",
      "        |                                                  ..    \n",
      "        |                                                    ..  \n",
      "0.46967 |                                                      ..\n",
      "          0.1                    1.05                       2\n"
     ]
    },
    {
     "data": {
      "text/plain": [
       "<sympy.plotting.plot.Plot at 0x7f1629cf8550>"
      ]
     },
     "execution_count": 13,
     "metadata": {},
     "output_type": "execute_result"
    }
   ],
   "source": [
    "plot(expression, (x, 0.1, 2))"
   ]
  },
  {
   "cell_type": "code",
   "execution_count": 14,
   "metadata": {
    "scrolled": true
   },
   "outputs": [
    {
     "data": {
      "text/latex": [
       "$$1$$"
      ],
      "text/plain": [
       "1"
      ]
     },
     "execution_count": 14,
     "metadata": {},
     "output_type": "execute_result"
    }
   ],
   "source": [
    "# Limit for x->0\n",
    "limit(expression, x, 0)"
   ]
  },
  {
   "cell_type": "markdown",
   "metadata": {},
   "source": [
    "## Solve Equation"
   ]
  },
  {
   "cell_type": "code",
   "execution_count": 15,
   "metadata": {},
   "outputs": [
    {
     "data": {
      "text/latex": [
       "$$\\left [ - \\sqrt{2}, \\quad \\sqrt{2}\\right ]$$"
      ],
      "text/plain": [
       "[-√2, √2]"
      ]
     },
     "execution_count": 15,
     "metadata": {},
     "output_type": "execute_result"
    }
   ],
   "source": [
    "# Solve the equation\n",
    "solve(x**2 - 2, x)"
   ]
  },
  {
   "cell_type": "code",
   "execution_count": 16,
   "metadata": {},
   "outputs": [
    {
     "name": "stdout",
     "output_type": "stream",
     "text": [
      "      2 |                                                        \n",
      "        |  .                                                    /\n",
      "        |   \\                                                  / \n",
      "        |    \\                                                /  \n",
      "        |     \\                                              /   \n",
      "        |      \\                                            .    \n",
      "        |       \\                                                \n",
      "        |        \\                                         .     \n",
      "0.00066 | --------\\--------------------------------------..------\n",
      "        |          \\                                    /        \n",
      "        |           \\                                  /         \n",
      "        |            \\                                /          \n",
      "        |             ..                             /           \n",
      "        |               \\                          ..            \n",
      "        |                ..                      ..              \n",
      "        |                  ..                  ..                \n",
      "        |                    ...             ..                  \n",
      "-1.9986 |                       .............                    \n",
      "          -2                     0                          2\n"
     ]
    },
    {
     "data": {
      "text/plain": [
       "<sympy.plotting.plot.Plot at 0x7f1629cf82e8>"
      ]
     },
     "execution_count": 16,
     "metadata": {},
     "output_type": "execute_result"
    }
   ],
   "source": [
    "plot(x**2 - 2, (x, -2, 2))"
   ]
  },
  {
   "cell_type": "markdown",
   "metadata": {},
   "source": [
    "Solve the differential equation $y'' - y = e^t$"
   ]
  },
  {
   "cell_type": "code",
   "execution_count": 17,
   "metadata": {
    "scrolled": true
   },
   "outputs": [
    {
     "data": {
      "text/latex": [
       "$$y{\\left (t \\right )} = C_{2} e^{- t} + \\left(C_{1} + \\frac{t}{2}\\right) e^{t}$$"
      ],
      "text/plain": [
       "           -t   ⎛     t⎞  t\n",
       "y(t) = C₂⋅ℯ   + ⎜C₁ + ─⎟⋅ℯ \n",
       "                ⎝     2⎠   "
      ]
     },
     "execution_count": 17,
     "metadata": {},
     "output_type": "execute_result"
    }
   ],
   "source": [
    "y = Function('y')\n",
    "equation = Eq(y(t).diff(t, t) - y(t), exp(t))\n",
    "solution = dsolve(equation, y(t))\n",
    "solution"
   ]
  },
  {
   "cell_type": "code",
   "execution_count": 18,
   "metadata": {
    "scrolled": false
   },
   "outputs": [
    {
     "name": "stdout",
     "output_type": "stream",
     "text": [
      " 5.6205 |                                                        \n",
      "        |  .                                                     \n",
      "        |   \\                                                    \n",
      "        |    \\                                                   \n",
      "        |     \\                                                  \n",
      "        |      \\                                                 \n",
      "        |       \\                                               /\n",
      "        |        \\                                             / \n",
      "4.29475 | --------\\-------------------------------------------/--\n",
      "        |          \\                                         /   \n",
      "        |           ..                                      /    \n",
      "        |             \\                                    /     \n",
      "        |              ..                                ..      \n",
      "        |                ..                             /        \n",
      "        |                  \\                          ..         \n",
      "        |                   ...                     ..           \n",
      "        |                      ...               ...             \n",
      "2.96899 |                         ...............                \n",
      "          -1                     0                          1\n"
     ]
    },
    {
     "data": {
      "text/plain": [
       "<sympy.plotting.plot.Plot at 0x7f1629d18320>"
      ]
     },
     "execution_count": 18,
     "metadata": {},
     "output_type": "execute_result"
    }
   ],
   "source": [
    "plot(solution.rhs.subs('C1', 1).subs('C2', 2), ('t', -1, 1))"
   ]
  },
  {
   "cell_type": "markdown",
   "metadata": {},
   "source": [
    "## Print LaTeX expression"
   ]
  },
  {
   "cell_type": "markdown",
   "metadata": {},
   "source": [
    "Print $\\int_{0}^{\\pi} \\cos^{2}{\\left (x \\right )}\\, dx$ as LaTeX expression"
   ]
  },
  {
   "cell_type": "code",
   "execution_count": 19,
   "metadata": {},
   "outputs": [
    {
     "data": {
      "text/plain": [
       "'\\\\int_{0}^{\\\\pi} \\\\cos^{2}{\\\\left (x \\\\right )}\\\\, dx'"
      ]
     },
     "execution_count": 19,
     "metadata": {},
     "output_type": "execute_result"
    }
   ],
   "source": [
    "latex(Integral(cos(x)**2, (x, 0, pi)))"
   ]
  },
  {
   "cell_type": "code",
   "execution_count": 1,
   "metadata": {},
   "outputs": [
    {
     "ename": "NameError",
     "evalue": "name 'tan' is not defined",
     "output_type": "error",
     "traceback": [
      "\u001b[0;31m---------------------------------------------------------------------------\u001b[0m",
      "\u001b[0;31mNameError\u001b[0m                                 Traceback (most recent call last)",
      "\u001b[0;32m<ipython-input-1-dd953156223d>\u001b[0m in \u001b[0;36m<module>\u001b[0;34m()\u001b[0m\n\u001b[0;32m----> 1\u001b[0;31m \u001b[0mexpression\u001b[0m \u001b[0;34m=\u001b[0m \u001b[0mtan\u001b[0m\u001b[0;34m(\u001b[0m\u001b[0;36m3\u001b[0m \u001b[0;34m-\u001b[0m \u001b[0msqrt\u001b[0m\u001b[0;34m(\u001b[0m\u001b[0;36m9\u001b[0m \u001b[0;34m-\u001b[0m \u001b[0mx\u001b[0m\u001b[0;34m*\u001b[0m\u001b[0mx\u001b[0m\u001b[0;34m*\u001b[0m\u001b[0mx\u001b[0m\u001b[0;34m)\u001b[0m\u001b[0;34m)\u001b[0m\u001b[0;34m\u001b[0m\u001b[0m\n\u001b[0m\u001b[1;32m      2\u001b[0m \u001b[0mexpression\u001b[0m\u001b[0;34m\u001b[0m\u001b[0m\n",
      "\u001b[0;31mNameError\u001b[0m: name 'tan' is not defined"
     ]
    }
   ],
   "source": [
    "expression = tan(3 - sqrt(9 - x*x*x))\n",
    "expression"
   ]
  },
  {
   "cell_type": "code",
   "execution_count": null,
   "metadata": {},
   "outputs": [],
   "source": []
  }
 ],
 "metadata": {
  "kernelspec": {
   "display_name": "Python 3",
   "language": "python",
   "name": "python3"
  },
  "language_info": {
   "codemirror_mode": {
    "name": "ipython",
    "version": 3
   },
   "file_extension": ".py",
   "mimetype": "text/x-python",
   "name": "python",
   "nbconvert_exporter": "python",
   "pygments_lexer": "ipython3",
   "version": "3.5.2"
  }
 },
 "nbformat": 4,
 "nbformat_minor": 2
}
